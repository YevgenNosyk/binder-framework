{
 "cells": [
  {
   "cell_type": "markdown",
   "id": "4e0f614e",
   "metadata": {},
   "source": [
    "# Day 04\n",
    "Day 4 exercises are in Day_04.py."
   ]
  },
  {
   "cell_type": "code",
   "execution_count": 205,
   "id": "40d1708e",
   "metadata": {},
   "outputs": [
    {
     "name": "stdout",
     "output_type": "stream",
     "text": [
      "450 True\n",
      "ANS Q1: Number of different companies (not accounting for spelling): 439\n",
      "76                                   BIMMY'S LLC\n",
      "100    Christie's Fine Art Storage Services, Inc\n",
      "101                              Christie's Inc.\n",
      "155                   FALCONE'S COOKIELAND, LTD.\n",
      "262                              M & R CPA's LLP\n",
      "270                       Maribel's Sweets, Inc.\n",
      "294                             Neuman's Kitchen\n",
      "317                      Pain D'Avignon III Ltd.\n",
      "345                ROGELIO'S WAY/DIGITAL LAUNDRY\n",
      "370                            SIMON''S HARDWARE\n",
      "388                  SWEET SAM'S BAKING CO., LLC\n",
      "410                  TUFO'S WHOLESALE DAIRY INC.\n",
      "Name: Company_Name, dtype: object\n",
      "\n",
      "0                             1 state street\n",
      "1                             100 church llc\n",
      "2                       100 wall investments\n",
      "3                1 10 bush terminal owner lp\n",
      "4      120 broadway acquisitions jv llc ldmk\n",
      "                       ...                  \n",
      "445                          wonton food inc\n",
      "446                               wood works\n",
      "447            worldwide plumbing supply inc\n",
      "448                        wud furniture llc\n",
      "449                      wurtec incorporated\n",
      "Name: Company_Name, Length: 450, dtype: object\n",
      "\n",
      "ANS Q1: Number of different companies (accounting for some possible spelling differences): 439\n",
      "True\n",
      "\n",
      "ANS Q2: Total number of jobs created in the *city* of Queens: 90.0\n",
      "ANS Q2: Total number of jobs created in the *borough* of Queens: 102.0\n",
      "False\n",
      "433\n",
      "0        energyspec.com\n",
      "3      industrycity.com\n",
      "4          silvprop.com\n",
      "5          silvprop.com\n",
      "6             dial7.com\n",
      "             ...       \n",
      "445      wontonfood.com\n",
      "446           gmail.com\n",
      "447            wwps.com\n",
      "448    wudfurniture.com\n",
      "449          wurtec.com\n",
      "Name: company_email, Length: 428, dtype: object\n",
      "\n",
      "ANS Q3: Number of unique domain names, without checking their validity: 356\n",
      "12    21st centuryoptics.com\n",
      "Name: company_email, dtype: object\n",
      "\n",
      "0        energyspec.com\n",
      "3      industrycity.com\n",
      "4          silvprop.com\n",
      "5          silvprop.com\n",
      "6             dial7.com\n",
      "             ...       \n",
      "445      wontonfood.com\n",
      "446           gmail.com\n",
      "447            wwps.com\n",
      "448    wudfurniture.com\n",
      "449          wurtec.com\n",
      "Name: company_email, Length: 427, dtype: object\n",
      "\n",
      "427\n",
      "\n",
      "ANS Q3: Number of unique *valid* domain names: 355\n",
      "NTA\n",
      "Astoria                               3\n",
      "Baisley Park                          1\n",
      "Battery Park City-Lower Manhattan     9\n",
      "Bedford                               3\n",
      "Bensonhurst West                      1\n",
      "                                     ..\n",
      "Whitestone                            3\n",
      "Williamsburg                          1\n",
      "Windsor Terrace                       1\n",
      "Woodside                              3\n",
      "park-cemetery-etc-Brooklyn           15\n",
      "Name: Company_Name, Length: 79, dtype: int64\n",
      "\n",
      "NTA\n",
      "Battery Park City-Lower Manhattan                    9\n",
      "Bushwick South                                      10\n",
      "Carroll Gardens-Columbia Street-Red Hook            11\n",
      "College Point                                        7\n",
      "Crown Heights North                                  9\n",
      "DUMBO-Vinegar Hill-Downtown Brooklyn-Boerum Hill    10\n",
      "East New York                                        7\n",
      "East Williamsburg                                   11\n",
      "Greenpoint                                          14\n",
      "Hunters Point-Sunnyside-West Maspeth                72\n",
      "Hunts Point                                         13\n",
      "Manhattanville                                       9\n",
      "Maspeth                                              9\n",
      "Mott Haven-Port Morris                              14\n",
      "Queensbridge-Ravenswood-Long Island City            15\n",
      "SoHo-TriBeCa-Civic Center-Little Italy               5\n",
      "Springfield Gardens South-Brookville                 5\n",
      "Steinway                                             7\n",
      "Sunset Park West                                    48\n",
      "park-cemetery-etc-Brooklyn                          15\n",
      "Name: Company_Name, dtype: int64\n",
      "\n",
      "                                   Total_Savings  Job_created\n",
      "NTA                                                          \n",
      "Astoria                             11409.986667          0.0\n",
      "Baisley Park                        21522.740000          0.0\n",
      "Battery Park City-Lower Manhattan  469890.796667          0.0\n",
      "Bedford                             62113.343333          0.0\n",
      "Bensonhurst West                     -379.470000          0.0\n",
      "...                                          ...          ...\n",
      "Whitestone                          62038.306667         10.0\n",
      "Williamsburg                        23570.080000          0.0\n",
      "Windsor Terrace                     78573.320000          0.0\n",
      "Woodside                             5625.736667          0.0\n",
      "park-cemetery-etc-Brooklyn          14327.419333          0.0\n",
      "\n",
      "[79 rows x 2 columns]\n",
      "\n",
      "                                   Total_Savings  Job_created  Business_count\n",
      "NTA                                                                          \n",
      "Astoria                             11409.986667          0.0               3\n",
      "Baisley Park                        21522.740000          0.0               1\n",
      "Battery Park City-Lower Manhattan  469890.796667          0.0               9\n",
      "Bedford                             62113.343333          0.0               3\n",
      "Bensonhurst West                     -379.470000          0.0               1\n",
      "...                                          ...          ...             ...\n",
      "Whitestone                          62038.306667         10.0               3\n",
      "Williamsburg                        23570.080000          0.0               1\n",
      "Windsor Terrace                     78573.320000          0.0               1\n",
      "Woodside                             5625.736667          0.0               3\n",
      "park-cemetery-etc-Brooklyn          14327.419333          0.0              15\n",
      "\n",
      "[79 rows x 3 columns]\n",
      "\n",
      "\n",
      "\n",
      "ANS Q4:\n",
      "\n",
      "                                                  Average_total_savings  \\\n",
      "NTA                                                                       \n",
      "Battery Park City-Lower Manhattan                         469890.796667   \n",
      "Bushwick South                                             26140.455000   \n",
      "Carroll Gardens-Columbia Street-Red Hook                   24337.390000   \n",
      "College Point                                              17159.372857   \n",
      "Crown Heights North                                         4036.298889   \n",
      "DUMBO-Vinegar Hill-Downtown Brooklyn-Boerum Hill           59950.340000   \n",
      "East New York                                              48433.093333   \n",
      "East Williamsburg                                          13990.626364   \n",
      "Greenpoint                                                  9753.649286   \n",
      "Hunters Point-Sunnyside-West Maspeth                       23931.398933   \n",
      "Hunts Point                                                39246.016154   \n",
      "Manhattanville                                              2760.888889   \n",
      "Maspeth                                                     6658.283333   \n",
      "Mott Haven-Port Morris                                     17843.937857   \n",
      "Queensbridge-Ravenswood-Long Island City                   61830.770625   \n",
      "SoHo-TriBeCa-Civic Center-Little Italy                     37214.024000   \n",
      "Springfield Gardens South-Brookville                       17757.662000   \n",
      "Steinway                                                   11227.155714   \n",
      "Sunset Park West                                           14316.976875   \n",
      "park-cemetery-etc-Brooklyn                                 14327.419333   \n",
      "\n",
      "                                                  Total_jobs_created  \\\n",
      "NTA                                                                    \n",
      "Battery Park City-Lower Manhattan                                  0   \n",
      "Bushwick South                                                    10   \n",
      "Carroll Gardens-Columbia Street-Red Hook                           0   \n",
      "College Point                                                      2   \n",
      "Crown Heights North                                                0   \n",
      "DUMBO-Vinegar Hill-Downtown Brooklyn-Boerum Hill                   0   \n",
      "East New York                                                     15   \n",
      "East Williamsburg                                                  0   \n",
      "Greenpoint                                                         0   \n",
      "Hunters Point-Sunnyside-West Maspeth                               0   \n",
      "Hunts Point                                                       12   \n",
      "Manhattanville                                                     0   \n",
      "Maspeth                                                           10   \n",
      "Mott Haven-Port Morris                                            10   \n",
      "Queensbridge-Ravenswood-Long Island City                           0   \n",
      "SoHo-TriBeCa-Civic Center-Little Italy                             0   \n",
      "Springfield Gardens South-Brookville                               0   \n",
      "Steinway                                                          20   \n",
      "Sunset Park West                                                   0   \n",
      "park-cemetery-etc-Brooklyn                                         0   \n",
      "\n",
      "                                                  Business_count  \n",
      "NTA                                                               \n",
      "Battery Park City-Lower Manhattan                              9  \n",
      "Bushwick South                                                10  \n",
      "Carroll Gardens-Columbia Street-Red Hook                      11  \n",
      "College Point                                                  7  \n",
      "Crown Heights North                                            9  \n",
      "DUMBO-Vinegar Hill-Downtown Brooklyn-Boerum Hill              10  \n",
      "East New York                                                  7  \n",
      "East Williamsburg                                             11  \n",
      "Greenpoint                                                    14  \n",
      "Hunters Point-Sunnyside-West Maspeth                          72  \n",
      "Hunts Point                                                   13  \n",
      "Manhattanville                                                 9  \n",
      "Maspeth                                                        9  \n",
      "Mott Haven-Port Morris                                        14  \n",
      "Queensbridge-Ravenswood-Long Island City                      15  \n",
      "SoHo-TriBeCa-Civic Center-Little Italy                         5  \n",
      "Springfield Gardens South-Brookville                           5  \n",
      "Steinway                                                       7  \n",
      "Sunset Park West                                              48  \n",
      "park-cemetery-etc-Brooklyn                                    15  \n",
      "\n",
      "AAAAAAAAAA\n"
     ]
    }
   ],
   "source": [
    "%run Day_04.py"
   ]
  },
  {
   "cell_type": "markdown",
   "id": "71c0cea0",
   "metadata": {},
   "source": [
    "<br><br>\n",
    "# Day 05\n",
    "First, general stuff that we will need."
   ]
  },
  {
   "cell_type": "code",
   "execution_count": 206,
   "id": "0a465e02",
   "metadata": {},
   "outputs": [
    {
     "name": "stdout",
     "output_type": "stream",
     "text": [
      "Done with imports\n"
     ]
    }
   ],
   "source": [
    "import numpy as np\n",
    "import pandas as pd\n",
    "import matplotlib.pyplot as plt\n",
    "print(\"Done with imports\")"
   ]
  },
  {
   "cell_type": "markdown",
   "id": "283fe20d",
   "metadata": {},
   "source": [
    "## 1. *Total jobs created* &nbsp; vs &nbsp; *average savings*\n",
    "This is fairly straightforward. Load the data frame first."
   ]
  },
  {
   "cell_type": "code",
   "execution_count": 207,
   "id": "2e56ae49",
   "metadata": {},
   "outputs": [],
   "source": [
    "df = pd.read_csv(\"Q4_out.csv\") #Data for NTAs with at least 5 businesses\n",
    "#df"
   ]
  },
  {
   "cell_type": "markdown",
   "id": "8e5e41fd",
   "metadata": {},
   "source": [
    "<br><br><br>And now, the plots."
   ]
  },
  {
   "cell_type": "code",
   "execution_count": 208,
   "id": "2ba1db90",
   "metadata": {
    "scrolled": false
   },
   "outputs": [
    {
     "data": {
      "image/png": "[encoded data removed]",
      "text/plain": [
       "<Figure size 864x432 with 2 Axes>"
      ]
     },
     "metadata": {
      "needs_background": "light"
     },
     "output_type": "display_data"
    }
   ],
   "source": [
    "av_sav = df.Average_total_savings.to_numpy()\n",
    "tot_jobs = df.Total_jobs_created.to_numpy()\n",
    "\n",
    "fig, (ax0, ax1) = plt.subplots(1, 2, figsize = (12, 6), layout=\"constrained\")\n",
    "\n",
    "#linear savings scale\n",
    "ax0.set_xlabel(\"Average savings\")\n",
    "ax0.set_ylabel(\"Jobs created\")\n",
    "ax0.plot(av_sav, tot_jobs, \"b*\") #could use .scatter, but it doesn't matter much in this case\n",
    "ax0.grid(True)\n",
    "\n",
    "#log savings scale\n",
    "ax1.set_xlabel(\"Average savings (log scale)\")\n",
    "ax1.set_ylabel(\"Jobs created\")\n",
    "ax1.set_xscale(\"log\")\n",
    "ax1.plot(av_sav, tot_jobs, \"r^\"); #could use .scatter, but it doesn't matter much in this case\n",
    "ax1.grid(True)\n"
   ]
  },
  {
   "cell_type": "markdown",
   "id": "1f4cefda",
   "metadata": {},
   "source": [
    "<br><br>\n",
    "## 2. Histogram of the log of the average total savings\n",
    "NOTE: there are only 20 NTAs with at least 5 businesses in the dataset. Doing a histogram on 20 points does not seem very representative. Thus, we will do both cases: histogram for 20 NTAs with >5 businesses, and another histogram for **all** 79 NTAs."
   ]
  },
  {
   "cell_type": "code",
   "execution_count": 209,
   "id": "62b84395",
   "metadata": {},
   "outputs": [
    {
     "data": {
      "image/png": "[encoded data removed]",
      "text/plain": [
       "<Figure size 864x288 with 2 Axes>"
      ]
     },
     "metadata": {
      "needs_background": "light"
     },
     "output_type": "display_data"
    }
   ],
   "source": [
    "#Two plots\n",
    "fig, (ax0, ax1) = plt.subplots(1, 2, figsize = (12, 4), layout=\"constrained\")\n",
    "\n",
    "def plot_log_hist(ax, savings, n_bins):\n",
    "    #calculate log10(Savings)\n",
    "    savings_log = np.log10(savings.to_numpy())\n",
    "\n",
    "    #calculate uniform log_bins and respective counts for log10(Savings) values\n",
    "    counts, log_bins = np.histogram(savings_log, n_bins) #using numpy method\n",
    "\n",
    "    #transform uniform bins_lof into respective non-uniform bins of Savings values\n",
    "    bins = 10.**log_bins\n",
    "\n",
    "    ax.set_xscale('log') # we will use a histogram with log-scale x-axis\n",
    "    ax.hist(bins[:-1], bins, weights = counts); #plot histogram of precalculated counts and non-uniform bins \n",
    "    #Now, the bottom axis reflects log-scale values of Savings\n",
    "    \n",
    "    ax.set_xlabel('Savings')\n",
    "    ax.set_ylabel('Count')\n",
    "\n",
    "    #Add the secondary axis on top with uniformly spaced log10 ticks.\n",
    "    #We do it manually, but it should be probably done via tick Locators.\n",
    "    ax_second = ax.secondary_xaxis(\"top\")\n",
    "    ax_second.minorticks_off()\n",
    "    delta = 0.5 #major ticks interval for secondary axis\n",
    "    low = np.floor(log_bins[0] / delta) * delta\n",
    "    high = np.ceil(log_bins[-1] /delta) * delta + delta/10\n",
    "    tick_vals = np.arange(low, high, delta)\n",
    "    ax_second.set_xticks(10.**tick_vals, tick_vals)\n",
    "    ax_second.set_xlabel(\"log(Savings)\")\n",
    "    \n",
    "    ax.grid(True)\n",
    "\n",
    "#--------------------------- 1st plot (NTA, with >5 Businesses)\n",
    "plot_log_hist(ax0, df.Average_total_savings, 10)\n",
    "ax0.set_title(\"NTAs, >5 businesses\")\n",
    "\n",
    "#--------------------------- 2nd plot (all NTAs)\n",
    "df_all = pd.read_csv(\"Q4_out_aux.csv\") #Data for *all* NTAs\n",
    "\n",
    "#Note: a few values of average savings are negative, so we will filter them out, since we can't log() them.\n",
    "av_sav_ALL_log = np.log10(df_all[df_all.Average_total_savings > 0.].Average_total_savings.to_numpy())\n",
    "\n",
    "df_all = df_all[df_all.Average_total_savings > 0.]\n",
    "plot_log_hist(ax1, df_all.Average_total_savings, 20)\n",
    "ax1.set_title(\"all NTAs\");"
   ]
  },
  {
   "cell_type": "markdown",
   "id": "b3ece983",
   "metadata": {},
   "source": [
    "<br><br>\n",
    "## 3. Line plot of jobs created for each month"
   ]
  },
  {
   "cell_type": "code",
   "execution_count": 210,
   "id": "95b5a48d",
   "metadata": {},
   "outputs": [],
   "source": [
    "df = pd.read_csv(\"Value_of_Energy_Cost_Savings_Program_Savings_for_Businesses_-_FY2020.csv\", \n",
    "                 parse_dates = [\"Effective Date\"])\n",
    "\n",
    "#this way we can access fields as .field, instead of ['field']. Also tab-complete works.\n",
    "df = df.rename(columns = lambda s: str.replace(s, \" \", \"_\")) \n",
    "df = df[['Effective_Date', 'Job_created']]"
   ]
  },
  {
   "cell_type": "code",
   "execution_count": 211,
   "id": "4fa8f620",
   "metadata": {},
   "outputs": [],
   "source": [
    "#resample the dataframe with frequency of 1 month\n",
    "rdf = df.set_index(pd.DatetimeIndex(df.Effective_Date))\n",
    "rdf.drop(df.columns[0], axis=1, inplace=True)\n",
    "rdf = rdf.resample('M').sum()"
   ]
  },
  {
   "cell_type": "code",
   "execution_count": 212,
   "id": "de84ecb4",
   "metadata": {},
   "outputs": [
    {
     "data": {
      "image/png": "[encoded data removed]",
      "text/plain": [
       "<Figure size 864x432 with 1 Axes>"
      ]
     },
     "metadata": {
      "needs_background": "light"
     },
     "output_type": "display_data"
    }
   ],
   "source": [
    "import matplotlib.dates as mdates\n",
    "\n",
    "dates = rdf.index.to_numpy()\n",
    "jobs = rdf.Job_created.to_numpy()\n",
    "\n",
    "fig, ax = plt.subplots(figsize = (12, 6), layout=\"constrained\")\n",
    "ax.plot(dates, jobs)\n",
    "\n",
    "ax.set_title(\"Jobs created each month\")\n",
    "ax.set_ylabel(\"Jobs created\")\n",
    "\n",
    "ax.xaxis.set_major_locator(mdates.YearLocator())\n",
    "ax.xaxis.set_minor_locator(mdates.MonthLocator(bymonth=(1, 4, 7, 10)))\n",
    "\n",
    "ax.grid(True)\n"
   ]
  }
 ],
 "metadata": {
  "kernelspec": {
   "display_name": "Python 3 (ipykernel)",
   "language": "python",
   "name": "python3"
  },
  "language_info": {
   "codemirror_mode": {
    "name": "ipython",
    "version": 3
   },
   "file_extension": ".py",
   "mimetype": "text/x-python",
   "name": "python",
   "nbconvert_exporter": "python",
   "pygments_lexer": "ipython3",
   "version": "3.9.12"
  }
 },
 "nbformat": 4,
 "nbformat_minor": 5
}
